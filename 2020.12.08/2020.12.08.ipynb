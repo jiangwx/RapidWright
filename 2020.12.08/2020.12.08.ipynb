{
 "cells": [
  {
   "cell_type": "markdown",
   "metadata": {},
   "source": [
    "The OSM is connected to clk_wiz/locked to avoid being removed during implementation. \n",
    "![](./diagram.PNG)\n",
    "![](./timing.PNG)\n",
    "As shown in the timing report, the critical path ends with `zcu104_fpx_i/FPDiv_0/inst/fR0_d1_reg[28]/D`, and its input net is `zcu104_fpx_i/FPDiv_0/inst/minusOp[28]`.The source of `minusOp[28]` is `zcu104_fpx_i/FPDiv_0/inst/SelFunctionTable7/fR0_d1_reg[28]_i_1`. Note that `minusOp[28]` has another name `zcu104_fpx_i/FPDiv_0/inst/SelFunctionTable7/D[9]` if seen from lower hierachy.\n",
    "![](./net1.PNG)\n",
    "![](./net2.PNG)\n"
   ]
  },
  {
   "cell_type": "code",
   "execution_count": 1,
   "metadata": {},
   "outputs": [],
   "source": [
    "import os\n",
    "import re\n",
    "import subprocess\n",
    "from com.xilinx.rapidwright.debug import OSM\n",
    "from com.xilinx.rapidwright.design import Design\n",
    "from com.xilinx.rapidwright.util import FileTools\n",
    "from com.xilinx.rapidwright.design import NetType\n",
    "from com.xilinx.rapidwright.design import Unisim\n",
    "from com.xilinx.rapidwright.design import SitePinInst\n",
    "from com.xilinx.rapidwright.device import Device\n",
    "from com.xilinx.rapidwright.edif import EDIFCell\n",
    "from com.xilinx.rapidwright.edif import EDIFCellInst\n",
    "from com.xilinx.rapidwright.edif import EDIFDirection\n",
    "from com.xilinx.rapidwright.edif import EDIFNet\n",
    "from com.xilinx.rapidwright.edif import EDIFNetlist\n",
    "from com.xilinx.rapidwright.edif import EDIFPort\n",
    "from com.xilinx.rapidwright.edif import EDIFTools\n",
    "from com.xilinx.rapidwright.edif import EDIFHierCellInst\n",
    "from com.xilinx.rapidwright.edif import EDIFHierPortInst\n",
    "from com.xilinx.rapidwright.edif import EDIFPortInst\n",
    "from com.xilinx.rapidwright.router import Router\n",
    "\n",
    "from com.xilinx.rapidwright.timing import TimingEdge\n",
    "from com.xilinx.rapidwright.timing import TimingManager\n",
    "from com.xilinx.rapidwright.timing import TimingVertex\n",
    "import org.jgrapht.GraphPath\n",
    "from java.util import Collections\n",
    "from java.util import HashMap\n",
    "from java.util import ArrayList\n",
    "from pprint import pprint"
   ]
  },
  {
   "cell_type": "code",
   "execution_count": 2,
   "metadata": {},
   "outputs": [],
   "source": [
    "design = Design.readCheckpoint(\"osmlock_routed.dcp\")\n",
    "zcu104_fpx_i = EDIFHierCellInst(\"zcu104_fpx_i\",design.getNetlist().getCellInstFromHierName(\"zcu104_fpx_i\"))"
   ]
  },
  {
   "cell_type": "markdown",
   "metadata": {},
   "source": [
    "get OSM Probe"
   ]
  },
  {
   "cell_type": "code",
   "execution_count": 3,
   "metadata": {},
   "outputs": [
    {
     "name": "stdout",
     "output_type": "stream",
     "text": [
      "[OSM_Array_0/D[0]]\n"
     ]
    }
   ],
   "source": [
    "OSM_Probe = []\n",
    "OSM_Array = design.getNetlist().getCellInstFromHierName(\"zcu104_fpx_i/OSM_Array_0\")\n",
    "for PortInst in OSM_Array.getPortInsts():\n",
    "    if \"D\" in PortInst.getName():\n",
    "        OSM_Probe.append(PortInst)\n",
    "print(OSM_Probe)"
   ]
  },
  {
   "cell_type": "markdown",
   "metadata": {},
   "source": [
    "get the OSM cell, each OSM is composed of a single register"
   ]
  },
  {
   "cell_type": "code",
   "execution_count": 4,
   "metadata": {},
   "outputs": [
    {
     "name": "stdout",
     "output_type": "stream",
     "text": [
      "[zcu104_fpx_i/OSM_Array_0/inst/generate_osm_array[0].osm_inst/Q1_reg(BEL: DFF2)]\n"
     ]
    }
   ],
   "source": [
    "OSM_Cell = []\n",
    "for i in OSM_Array.getCellType().getAllLeafDescendants(OSM_Array.getCellName()):\n",
    "    if i.getCellType().getName() == \"FDCE\":\n",
    "        cell_name = \"zcu104_fpx_i/OSM_Array_0\" + i.getFullHierarchicalInstName()[i.getFullHierarchicalInstName().find('/'):]\n",
    "        OSM_Cell.append(design.getCell(cell_name))\n",
    "print(OSM_Cell)"
   ]
  },
  {
   "cell_type": "markdown",
   "metadata": {},
   "source": [
    "get the OSM's sitePin"
   ]
  },
  {
   "cell_type": "code",
   "execution_count": 5,
   "metadata": {},
   "outputs": [
    {
     "name": "stdout",
     "output_type": "stream",
     "text": [
      "([Q1_reg/C], [IN SLICE_X51Y237.CLK1])\n"
     ]
    }
   ],
   "source": [
    "OSM_Port = []\n",
    "OSM_SitePin = []\n",
    "OSM_Port.append(OSM_Cell[0].getEDIFCellInst().getPortInst(\"C\"))\n",
    "siteWires = []\n",
    "OSM_SitePin.append(OSM_Cell[0].getSitePinFromPortInst(OSM_Cell[0].getEDIFCellInst().getPortInst(\"C\"), siteWires))\n",
    "print(OSM_Port, OSM_SitePin)"
   ]
  },
  {
   "cell_type": "markdown",
   "metadata": {},
   "source": [
    "remove the OSM from the orignial logical and physical net, note that the OSM are connected to clk_wiz/locked to avoid being removed "
   ]
  },
  {
   "cell_type": "code",
   "execution_count": 6,
   "metadata": {},
   "outputs": [
    {
     "data": {
      "text/plain": [
       "OSM_Array_0/D[0]"
      ]
     },
     "execution_count": 6,
     "metadata": {},
     "output_type": "execute_result"
    }
   ],
   "source": [
    "OSMLogicNet = OSM_Probe[0].getNet()\n",
    "OSMPhysNet = design.getNetlist().getPhysicalNetFromPin(\"zcu104_fpx_i\", OSM_Probe[0], design)\n",
    "OSMPhysNet.removePin(OSM_SitePin[0])\n",
    "OSMPhysNet.unroute()\n",
    "OSMLogicNet.removePortInst(OSM_Probe[0])"
   ]
  },
  {
   "cell_type": "markdown",
   "metadata": {},
   "source": [
    "get the critical path's terminal register"
   ]
  },
  {
   "cell_type": "code",
   "execution_count": 7,
   "metadata": {},
   "outputs": [
    {
     "name": "stdout",
     "output_type": "stream",
     "text": [
      "zcu104_fpx_i/FPDiv_0/inst/SelFunctionTable7/D[9]\n"
     ]
    }
   ],
   "source": [
    "T0_EDIFHierPortInst = design.getNetlist().getHierPortInstFromName(\"zcu104_fpx_i/FPDiv_0/inst/fR0_d1_reg[28]/D\") # T means terminal\n",
    "T0_Cell = design.getCell(\"zcu104_fpx_i/FPDiv_0/inst/fR0_d1_reg[28]\")\n",
    "T0_SiteWire = T0_Cell.getSiteWireNameFromLogicalPin(\"D\")\n",
    "T0_Net = T0_Cell.getSiteInst().getNetFromSiteWire(T0_SiteWire)\n",
    "print(T0_Net)"
   ]
  },
  {
   "cell_type": "markdown",
   "metadata": {},
   "source": [
    "I first tried to add the OSM's port and pin to the net to be monitored in both logical level and phyiscal level"
   ]
  },
  {
   "cell_type": "code",
   "execution_count": 8,
   "metadata": {},
   "outputs": [
    {
     "name": "stdout",
     "output_type": "stream",
     "text": [
      "([fR0_d1_reg[28]_i_1/O[1], D[9], Q1_reg/C], [IN SLICE_X51Y237.CLK1])\n"
     ]
    }
   ],
   "source": [
    "T0_Net.getLogicalNet().addPortInst(OSM_Port[0])\n",
    "T0_Net.addPin(OSM_SitePin[0]) \n",
    "print(T0_Net.getLogicalNet().getPortInsts(),T0_Net.getPins())"
   ]
  },
  {
   "cell_type": "code",
   "execution_count": 9,
   "metadata": {},
   "outputs": [],
   "source": [
    "design.writeCheckpoint(\"updated_osm.dcp\")"
   ]
  },
  {
   "cell_type": "markdown",
   "metadata": {},
   "source": [
    "However, the saved dcp file cannot be opened by Vivado\n",
    "![](./error.PNG)\n",
    "As a result, I tried to create a new logical net and a new physical net and add Ports/Pins to them. "
   ]
  },
  {
   "cell_type": "code",
   "execution_count": 8,
   "metadata": {},
   "outputs": [],
   "source": [
    "OSM0_EDIFNet = OSM_Array.getParentCell().createNet(\"OSM0\")\n",
    "OSM0_EDIFNet.addPortInst(OSM_Probe[0])\n",
    "EDIFTools.connectDebugProbe(OSM0_EDIFNet,\"zcu104_fpx_i/FPDiv_0/inst/SelFunctionTable7/D[9]\", \"OSM0\", zcu104_fpx_i, design.getNetlist(), None)"
   ]
  },
  {
   "cell_type": "code",
   "execution_count": 9,
   "metadata": {},
   "outputs": [
    {
     "name": "stdout",
     "output_type": "stream",
     "text": [
      "[IN SLICE_X51Y237.CLK1]\n"
     ]
    }
   ],
   "source": [
    "OSM0_Net = design.createNet(OSM0_EDIFNet)\n",
    "OSM0_Net.addPin(OSM_SitePin[0])\n",
    "OSM0_Net.addPins(T0_Net.getPins())\n",
    "print(OSM0_Net.getPins())"
   ]
  },
  {
   "cell_type": "markdown",
   "metadata": {},
   "source": [
    "However, the `T0_Net` is an intra-site net, and does not have any Pin. So `OSM0_Net.addPins(T0_Net.getPins())` does not actually connect the origin net with the new OSM net together."
   ]
  }
 ],
 "metadata": {
  "kernelspec": {
   "display_name": "Jython 2.7",
   "language": "python",
   "name": "jython27"
  },
  "language_info": {
   "file_extension": ".py",
   "mimetype": "text/x-python",
   "name": "python",
   "pygments_lexer": "python",
   "version": "2.7.2"
  }
 },
 "nbformat": 4,
 "nbformat_minor": 4
}
